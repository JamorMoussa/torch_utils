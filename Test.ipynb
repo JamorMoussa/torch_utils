{
 "cells": [
  {
   "cell_type": "code",
   "execution_count": 1,
   "id": "e7c812ad-7a50-4f83-b313-96f7d6f512e2",
   "metadata": {},
   "outputs": [],
   "source": [
    "import torch, torch.nn as nn\n",
    "import torch.optim as optim\n",
    "from torch.utils.data import TensorDataset, random_split\n",
    "\n",
    "import torch_utils as ts"
   ]
  },
  {
   "cell_type": "code",
   "execution_count": 2,
   "id": "59db06c5-c938-4f91-a3b1-7ae34daf674f",
   "metadata": {},
   "outputs": [],
   "source": [
    "X = torch.rand(100, 3)\n",
    "y = torch.mm(X, torch.Tensor([1, 2, 3]).unsqueeze(0).t())"
   ]
  },
  {
   "cell_type": "code",
   "execution_count": 3,
   "id": "b219e787-ceaf-41d2-a8ec-cc59ef36a7db",
   "metadata": {},
   "outputs": [],
   "source": [
    "dataset = TensorDataset(X, y)"
   ]
  },
  {
   "cell_type": "code",
   "execution_count": 4,
   "id": "5bdeefdf-f6ba-49f4-a4c0-94aadf68c07d",
   "metadata": {},
   "outputs": [
    {
     "data": {
      "text/plain": [
       "<torch.utils.data.dataset.TensorDataset at 0x7eb23de55a90>"
      ]
     },
     "execution_count": 4,
     "metadata": {},
     "output_type": "execute_result"
    }
   ],
   "source": [
    "dataset"
   ]
  },
  {
   "cell_type": "code",
   "execution_count": 5,
   "id": "9dba2a9f-31a8-4dab-a49a-b67983eab19b",
   "metadata": {},
   "outputs": [],
   "source": [
    "model = nn.Sequential(\n",
    "    nn.Linear(3, 1)\n",
    ")"
   ]
  },
  {
   "cell_type": "code",
   "execution_count": 6,
   "id": "d207d269-828e-4f8e-a0b8-9cdc82214197",
   "metadata": {},
   "outputs": [
    {
     "data": {
      "text/plain": [
       "tensor([-0.7246], grad_fn=<ViewBackward0>)"
      ]
     },
     "execution_count": 6,
     "metadata": {},
     "output_type": "execute_result"
    }
   ],
   "source": [
    "model(dataset[0][0])"
   ]
  },
  {
   "cell_type": "code",
   "execution_count": 7,
   "id": "8792f358-2ef2-4bf3-b8ad-cb3ef0f8f66f",
   "metadata": {},
   "outputs": [],
   "source": [
    "trainer = ts.train.Trainer()"
   ]
  },
  {
   "cell_type": "code",
   "execution_count": 8,
   "id": "470dc99a-b071-425a-b39f-726c7b8c4562",
   "metadata": {},
   "outputs": [
    {
     "data": {
      "text/plain": [
       "Sequential(\n",
       "  (0): Linear(in_features=3, out_features=1, bias=True)\n",
       ")"
      ]
     },
     "execution_count": 8,
     "metadata": {},
     "output_type": "execute_result"
    }
   ],
   "source": [
    "model"
   ]
  },
  {
   "cell_type": "code",
   "execution_count": 9,
   "id": "5cf91338-c86f-4fe6-ba61-95c3d65dfe89",
   "metadata": {},
   "outputs": [
    {
     "data": {
      "text/plain": [
       "Trainer(\n",
       "  (configs): TrainerConfigs(max_iters=10, train_batch=64, test_batch=64, shuffle_data=True, device=device(type='cpu'))\n",
       ")"
      ]
     },
     "execution_count": 9,
     "metadata": {},
     "output_type": "execute_result"
    }
   ],
   "source": [
    "trainer"
   ]
  },
  {
   "cell_type": "code",
   "execution_count": 26,
   "id": "094712e6-84b0-4525-b20d-015577be5968",
   "metadata": {},
   "outputs": [],
   "source": [
    "trainer.configs.max_iters = 10000"
   ]
  },
  {
   "cell_type": "code",
   "execution_count": 27,
   "id": "88fde7ff-746f-42c3-969b-390f5568805a",
   "metadata": {},
   "outputs": [],
   "source": [
    "train_set, test_set = random_split(dataset, [0.8, 0.2])"
   ]
  },
  {
   "cell_type": "code",
   "execution_count": 28,
   "id": "d71b6876-5784-4e48-97e1-6d99f4c4ba1f",
   "metadata": {},
   "outputs": [],
   "source": [
    "data_container = ts.data.DataContainer(train_set, test_set)"
   ]
  },
  {
   "cell_type": "code",
   "execution_count": 29,
   "id": "d426077b-6e92-4a32-ad7c-247031392c18",
   "metadata": {},
   "outputs": [],
   "source": [
    "opt = ts.optim.OptimizerContainer(optim.Adam(model.parameters(), lr=0.01))"
   ]
  },
  {
   "cell_type": "code",
   "execution_count": 30,
   "id": "888fdf9f-ca05-4575-a2c0-827282a8dfd6",
   "metadata": {},
   "outputs": [],
   "source": [
    "trainer.compile(\n",
    "    model= model, \n",
    "    opt_container= opt,\n",
    "    loss_fn= nn.MSELoss(),\n",
    "    data_container= data_container\n",
    ")"
   ]
  },
  {
   "cell_type": "code",
   "execution_count": 31,
   "id": "6310e476-a60d-4d90-8115-50f4e0ab8d5e",
   "metadata": {},
   "outputs": [
    {
     "data": {
      "text/plain": [
       "<torch_utils.data.container.DataContainer at 0x7eb15e6bf090>"
      ]
     },
     "execution_count": 31,
     "metadata": {},
     "output_type": "execute_result"
    }
   ],
   "source": [
    "trainer.data_container"
   ]
  },
  {
   "cell_type": "code",
   "execution_count": 32,
   "id": "6a54275f-9bbe-4aab-bd7c-397aea28f159",
   "metadata": {},
   "outputs": [
    {
     "name": "stderr",
     "output_type": "stream",
     "text": [
      "100%|████████████████████████████████████| 10000/10000 [00:23<00:00, 421.60it/s]\n"
     ]
    }
   ],
   "source": [
    "trainer.train()"
   ]
  },
  {
   "cell_type": "code",
   "execution_count": 35,
   "id": "4c9d0c02-ee5d-40b9-be7d-9db1d7a1ae0b",
   "metadata": {},
   "outputs": [
    {
     "data": {
      "text/plain": [
       "tensor([1.], grad_fn=<ViewBackward0>)"
      ]
     },
     "execution_count": 35,
     "metadata": {},
     "output_type": "execute_result"
    }
   ],
   "source": [
    "model(torch.Tensor([1, 0, 0]))"
   ]
  },
  {
   "cell_type": "code",
   "execution_count": null,
   "id": "2ef7c4ae-2f5f-4e4c-985d-d468828a6595",
   "metadata": {},
   "outputs": [],
   "source": []
  },
  {
   "cell_type": "code",
   "execution_count": null,
   "id": "4f17ebfc-b092-4d3c-8187-ec68a4c2717a",
   "metadata": {},
   "outputs": [],
   "source": []
  },
  {
   "cell_type": "code",
   "execution_count": null,
   "id": "76164374-0571-400d-b4b0-560beadfef48",
   "metadata": {},
   "outputs": [],
   "source": []
  }
 ],
 "metadata": {
  "kernelspec": {
   "display_name": "Python 3 (ipykernel)",
   "language": "python",
   "name": "python3"
  },
  "language_info": {
   "codemirror_mode": {
    "name": "ipython",
    "version": 3
   },
   "file_extension": ".py",
   "mimetype": "text/x-python",
   "name": "python",
   "nbconvert_exporter": "python",
   "pygments_lexer": "ipython3",
   "version": "3.11.6"
  }
 },
 "nbformat": 4,
 "nbformat_minor": 5
}
