{
 "cells": [
  {
   "cell_type": "code",
   "execution_count": 1,
   "id": "e7c812ad-7a50-4f83-b313-96f7d6f512e2",
   "metadata": {},
   "outputs": [],
   "source": [
    "import torch, torch.nn as nn\n",
    "import torch.optim as optim\n",
    "from torch.utils.data import TensorDataset\n",
    "\n",
    "import torch_utils as ts"
   ]
  },
  {
   "cell_type": "code",
   "execution_count": 2,
   "id": "59db06c5-c938-4f91-a3b1-7ae34daf674f",
   "metadata": {},
   "outputs": [],
   "source": [
    "X = torch.rand(100, 3)\n",
    "y = torch.mm(X, torch.Tensor([1, 2, 3]).unsqueeze(0).t())"
   ]
  },
  {
   "cell_type": "code",
   "execution_count": 3,
   "id": "b219e787-ceaf-41d2-a8ec-cc59ef36a7db",
   "metadata": {},
   "outputs": [],
   "source": [
    "dataset = TensorDataset(X, y)"
   ]
  },
  {
   "cell_type": "code",
   "execution_count": 4,
   "id": "5bdeefdf-f6ba-49f4-a4c0-94aadf68c07d",
   "metadata": {},
   "outputs": [
    {
     "data": {
      "text/plain": [
       "<torch.utils.data.dataset.TensorDataset at 0x72317b93d1d0>"
      ]
     },
     "execution_count": 4,
     "metadata": {},
     "output_type": "execute_result"
    }
   ],
   "source": [
    "dataset"
   ]
  },
  {
   "cell_type": "code",
   "execution_count": 5,
   "id": "9dba2a9f-31a8-4dab-a49a-b67983eab19b",
   "metadata": {},
   "outputs": [],
   "source": [
    "model = nn.Sequential(\n",
    "    nn.Linear(3, 1)\n",
    ")"
   ]
  },
  {
   "cell_type": "code",
   "execution_count": 6,
   "id": "d207d269-828e-4f8e-a0b8-9cdc82214197",
   "metadata": {},
   "outputs": [
    {
     "data": {
      "text/plain": [
       "tensor([0.0830], grad_fn=<ViewBackward0>)"
      ]
     },
     "execution_count": 6,
     "metadata": {},
     "output_type": "execute_result"
    }
   ],
   "source": [
    "model(dataset[0][0])"
   ]
  },
  {
   "cell_type": "code",
   "execution_count": 7,
   "id": "1da37c91-a856-41aa-8286-12ed14de2844",
   "metadata": {},
   "outputs": [],
   "source": [
    "configs = ts.train.TrainerConfigs(max_iters=100)"
   ]
  },
  {
   "cell_type": "code",
   "execution_count": 8,
   "id": "8792f358-2ef2-4bf3-b8ad-cb3ef0f8f66f",
   "metadata": {},
   "outputs": [],
   "source": [
    "trainer = ts.train.Trainer(configs= configs)"
   ]
  },
  {
   "cell_type": "code",
   "execution_count": 9,
   "id": "888fdf9f-ca05-4575-a2c0-827282a8dfd6",
   "metadata": {},
   "outputs": [],
   "source": [
    "trainer.compile(\n",
    "    model= model, \n",
    "    opt_container= optim.Adam(model.parameters(), lr=0.01),\n",
    "    loss= nn.MSELoss()\n",
    ")"
   ]
  },
  {
   "cell_type": "code",
   "execution_count": 10,
   "id": "6310e476-a60d-4d90-8115-50f4e0ab8d5e",
   "metadata": {},
   "outputs": [
    {
     "data": {
      "text/plain": [
       "Adam (\n",
       "Parameter Group 0\n",
       "    amsgrad: False\n",
       "    betas: (0.9, 0.999)\n",
       "    capturable: False\n",
       "    differentiable: False\n",
       "    eps: 1e-08\n",
       "    foreach: None\n",
       "    fused: None\n",
       "    lr: 0.01\n",
       "    maximize: False\n",
       "    weight_decay: 0\n",
       ")"
      ]
     },
     "execution_count": 10,
     "metadata": {},
     "output_type": "execute_result"
    }
   ],
   "source": [
    "trainer.opt_container"
   ]
  },
  {
   "cell_type": "code",
   "execution_count": 11,
   "id": "d6531311-e878-488b-abb6-61f728f6ce26",
   "metadata": {},
   "outputs": [
    {
     "data": {
      "text/plain": [
       "TrainerConfigs(max_iters=100)"
      ]
     },
     "execution_count": 11,
     "metadata": {},
     "output_type": "execute_result"
    }
   ],
   "source": [
    "trainer.configs"
   ]
  },
  {
   "cell_type": "code",
   "execution_count": null,
   "id": "93cebfa9-dd95-4a17-a350-4beeecf4e163",
   "metadata": {},
   "outputs": [],
   "source": []
  },
  {
   "cell_type": "code",
   "execution_count": null,
   "id": "6a54275f-9bbe-4aab-bd7c-397aea28f159",
   "metadata": {},
   "outputs": [],
   "source": []
  },
  {
   "cell_type": "code",
   "execution_count": null,
   "id": "4c9d0c02-ee5d-40b9-be7d-9db1d7a1ae0b",
   "metadata": {},
   "outputs": [],
   "source": []
  }
 ],
 "metadata": {
  "kernelspec": {
   "display_name": "Python 3 (ipykernel)",
   "language": "python",
   "name": "python3"
  },
  "language_info": {
   "codemirror_mode": {
    "name": "ipython",
    "version": 3
   },
   "file_extension": ".py",
   "mimetype": "text/x-python",
   "name": "python",
   "nbconvert_exporter": "python",
   "pygments_lexer": "ipython3",
   "version": "3.11.6"
  }
 },
 "nbformat": 4,
 "nbformat_minor": 5
}
